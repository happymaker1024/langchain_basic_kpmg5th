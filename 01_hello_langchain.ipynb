{
 "cells": [
  {
   "cell_type": "markdown",
   "id": "914a25df",
   "metadata": {},
   "source": [
    "# 랭채인 기본 테스트"
   ]
  },
  {
   "cell_type": "markdown",
   "id": "9ce86397",
   "metadata": {},
   "source": [
    "pip install -Uq python-dotenv  \n",
    "pip install -U langchain "
   ]
  },
  {
   "cell_type": "markdown",
   "id": "08d08205",
   "metadata": {},
   "source": [
    "## GPT API\n",
    "pip install -U langchain-openai "
   ]
  },
  {
   "cell_type": "code",
   "execution_count": 1,
   "id": "e6f23827",
   "metadata": {},
   "outputs": [],
   "source": [
    "from dotenv import load_dotenv\n",
    "import os\n",
    "\n",
    "load_dotenv()\n",
    "api_key = os.environ[\"OPENAI_API_KEY\"]\n",
    "# api_key"
   ]
  },
  {
   "cell_type": "code",
   "execution_count": 2,
   "id": "247791e9",
   "metadata": {},
   "outputs": [],
   "source": [
    "from langchain_openai import ChatOpenAI"
   ]
  },
  {
   "cell_type": "code",
   "execution_count": 3,
   "id": "0c9e10e4",
   "metadata": {},
   "outputs": [],
   "source": [
    "llm = ChatOpenAI(model=\"gpt-4o\", api_key=api_key)"
   ]
  },
  {
   "cell_type": "code",
   "execution_count": 4,
   "id": "2a7bcd3b",
   "metadata": {},
   "outputs": [
    {
     "data": {
      "text/plain": [
       "ChatOpenAI(client=<openai.resources.chat.completions.completions.Completions object at 0x0000019CAEF7E660>, async_client=<openai.resources.chat.completions.completions.AsyncCompletions object at 0x0000019CB024D010>, root_client=<openai.OpenAI object at 0x0000019CAEC10200>, root_async_client=<openai.AsyncOpenAI object at 0x0000019CAEF7E510>, model_name='gpt-4o', model_kwargs={}, openai_api_key=SecretStr('**********'))"
      ]
     },
     "execution_count": 4,
     "metadata": {},
     "output_type": "execute_result"
    }
   ],
   "source": [
    "llm"
   ]
  },
  {
   "cell_type": "code",
   "execution_count": 5,
   "id": "19e27c4f",
   "metadata": {},
   "outputs": [],
   "source": [
    "# 메시지는 list, list의 요소는 tuple 구조로\n",
    "messages = [\n",
    "    (\"system\", \"당신은 서울의 음시과 문화 전문가 입니다.\"),\n",
    "    (\"human\", \"서울을 대표하는 음식을 맛볼 수 있는 레스토랑 5개를 추천해줘.\")\n",
    "]\n",
    "\n",
    "res = llm.invoke(messages)"
   ]
  },
  {
   "cell_type": "code",
   "execution_count": 8,
   "id": "7340b099",
   "metadata": {},
   "outputs": [
    {
     "name": "stdout",
     "output_type": "stream",
     "text": [
      "서울은 다양한 전통 음식과 현대적인 맛집이 공존하는 도시입니다. 다음은 서울을 대표하는 음식을 맛볼 수 있는 다섯 개의 레스토랑을 추천드립니다.\n",
      "\n",
      "1. **한정식 - 소선재**\n",
      "   - 소선재는 전통 한정식 요리를 현대적으로 해석한 레스토랑으로, 다양한 계절 별미와 정성이 담긴 반찬을 제공합니다. 정갈하고 품격 있는 분위기에서 한국의 전통 미를 느끼며 식사할 수 있습니다.\n",
      "\n",
      "2. **비빔밥 - 고봉삼계탕**\n",
      "   - 고봉삼계탕은 삼계탕으로 유명하지만 전통 비빔밥 메뉴도 일품입니다. 다양한 나물과 고명을 신선한 재료로 준비하여, 제대로 된 한국식 비빔밥의 맛을 즐길 수 있습니다.\n",
      "   \n",
      "3. **불고기 - 삼원가든**\n",
      "   - 삼원가든은 세련된 분위기에서 고급 한우 불고기를 맛볼 수 있는 곳입니다. 육즙이 풍부하고 부드러운 고기를 직접 구워 먹는 즐거움이 있으며, 전통적인 양념으로 고급스러운 불고기 맛을 느낄 수 있습니다.\n",
      "\n",
      "4. **김치찌개 - 장독대**\n",
      "   - 장독대는 깊고 진한 맛의 김치찌개로 유명한 곳입니다. 오랜 시간 푹 끓여낸 김치와 돼지고기, 두부 등이 조화를 이루어 전통적인 한국의 맛을 그대로 제공합니다.\n",
      "\n",
      "5. **칼국수 - 명동교자**\n",
      "   - 명동교자는 탁월한 맛의 칼국수와 만두로 명성이 높은 레스토랑입니다. 직접 만든 면과 진한 육수가 일품이며, 한국 전통 분식의 정수를 경험할 수 있습니다.\n",
      "\n",
      "이 레스토랑들은 각기 다른 스타일로 한국 전통 음식을 재해석하여 현대인들에게 제공하고 있어, 서울의 미식 문화를 경험하기에 좋은 선택이 될 것입니다.\n"
     ]
    }
   ],
   "source": [
    "print(res.content)"
   ]
  },
  {
   "cell_type": "markdown",
   "id": "527dde1e",
   "metadata": {},
   "source": [
    "## Gemini API"
   ]
  },
  {
   "cell_type": "markdown",
   "id": "170654fe",
   "metadata": {},
   "source": [
    "pip install -U langchain-google-genai"
   ]
  },
  {
   "cell_type": "code",
   "execution_count": 12,
   "id": "05242218",
   "metadata": {},
   "outputs": [],
   "source": [
    "from langchain_google_genai import ChatGoogleGenerativeAI\n",
    "\n",
    "\n",
    "llm_gemini = ChatGoogleGenerativeAI(\n",
    "    api_key=os.environ[\"GEMINI_API_KEY\"],  # Google Gemini API 키\n",
    "    model=\"gemini-2.0-flash\",  # 또는 gemini-pro-vision 등\n",
    "    temperature=0.3\n",
    ")\n"
   ]
  },
  {
   "cell_type": "code",
   "execution_count": 13,
   "id": "e1f37f0a",
   "metadata": {},
   "outputs": [],
   "source": [
    "# 메시지는 list, list의 요소는 tuple 구조로\n",
    "messages = [\n",
    "    (\"system\", \"당신은 서울의 음시과 문화 전문가 입니다.\"),\n",
    "    (\"human\", \"서울을 대표하는 음식을 맛볼 수 있는 레스토랑 5개를 추천해줘.\")\n",
    "]\n",
    "\n",
    "res = llm_gemini.invoke(messages)"
   ]
  },
  {
   "cell_type": "code",
   "execution_count": 14,
   "id": "fb02fc25",
   "metadata": {},
   "outputs": [
    {
     "name": "stdout",
     "output_type": "stream",
     "text": [
      "네, 서울 음식과 문화 전문가로서 서울을 대표하는 음식을 맛볼 수 있는 훌륭한 레스토랑 5곳을 추천해 드립니다. 각 레스토랑은 고유한 매력과 깊은 역사를 자랑하며, 서울의 맛을 다채롭게 경험할 수 있도록 엄선했습니다.\n",
      "\n",
      "1.  **미슐랭 2스타, \"권숙수\"**: 한식 파인 다이닝의 정수를 경험하고 싶다면 권숙수를 추천합니다. 전통 한식을 현대적으로 재해석한 창의적인 요리들을 맛볼 수 있으며, 훌륭한 서비스와 분위기는 특별한 날을 더욱 특별하게 만들어 줄 것입니다. 특히, 다양한 전통주 페어링은 음식의 풍미를 한층 더 끌어올려 줍니다.\n",
      "    *   추천 메뉴: 숙성 간장게장, 제철 식재료를 활용한 코스 메뉴\n",
      "    *   주소: 서울 강남구 압구정로80길 37\n",
      "\n",
      "2.  **미슐랭 1스타, \"이종국104\"**: 종가 음식의 깊은 맛을 느끼고 싶다면 이종국104를 방문해 보세요. 조선시대 양반가의 전통 조리법을 그대로 이어받아 섬세하고 정갈한 음식을 선보입니다. 특히, 오랜 시간 정성을 들여 만든 장류는 음식의 깊이를 더하며, 한국 전통 가옥의 아름다움을 느낄 수 있는 공간은 특별한 경험을 선사합니다.\n",
      "    *   추천 메뉴: 종가 떡갈비, 전통 장을 이용한 반상\n",
      "    *   주소: 서울 종로구 북촌로 31-10\n",
      "\n",
      "3.  **수요미식회 선정, \"황생가칼국수\"**: 서울의 대표적인 칼국수 맛집으로, 60년이 넘는 역사를 자랑합니다. 멸치와 사골로 우려낸 깊고 시원한 육수와 쫄깃한 면발의 조화는 일품입니다. 특히, 푸짐한 양은 든든한 한 끼 식사로 충분하며, 합리적인 가격 또한 매력적입니다.\n",
      "    *   추천 메뉴: 황생가칼국수, 사골칼국수\n",
      "    *   주소: 서울 종로구 소격동 84\n",
      "\n",
      "4.  **백년가게, \"용금옥\"**: 1932년부터 3대째 이어져 오는 설렁탕 전문점으로, 서울에서 가장 오래된 설렁탕집 중 하나입니다. 오랜 시간 푹 고아낸 깊고 진한 육수는 추운 날씨에 몸을 따뜻하게 녹여주며, 변함없는 맛은 오랜 세월 동안 많은 사람들에게 사랑받는 이유입니다.\n",
      "    *   추천 메뉴: 설렁탕, 수육\n",
      "    *   주소: 서울 중구 다동길 24-2\n",
      "\n",
      "5.  **미쉐린 빕 구르망, \"만족오향족발\"**: 서울 3대 족발 중 하나로 꼽히는 곳입니다. 특유의 향긋한 향신료와 쫄깃한 식감이 특징이며, 잡내 없이 깔끔한 맛은 남녀노소 누구나 좋아합니다. 특히, 따뜻하게 데워져 나오는 족발은 더욱 풍부한 맛을 선사하며, 함께 제공되는 떡만둣국 또한 인기 메뉴입니다.\n",
      "    *   추천 메뉴: 오향족발, 쟁반국수\n",
      "    *   주소: 서울 중구 서소문로 134-7\n",
      "\n",
      "이 외에도 서울에는 다양한 종류의 맛집들이 많으니, 취향에 따라 선택하여 즐거운 미식 경험을 하시길 바랍니다. 혹시 특정 음식이나 분위기를 선호하신다면, 더욱 맞춤형 추천을 해 드릴 수 있습니다.\n"
     ]
    }
   ],
   "source": [
    "print(res.content)"
   ]
  },
  {
   "cell_type": "code",
   "execution_count": null,
   "id": "5b29e737",
   "metadata": {},
   "outputs": [],
   "source": []
  }
 ],
 "metadata": {
  "kernelspec": {
   "display_name": "lc_env",
   "language": "python",
   "name": "python3"
  },
  "language_info": {
   "codemirror_mode": {
    "name": "ipython",
    "version": 3
   },
   "file_extension": ".py",
   "mimetype": "text/x-python",
   "name": "python",
   "nbconvert_exporter": "python",
   "pygments_lexer": "ipython3",
   "version": "3.12.11"
  }
 },
 "nbformat": 4,
 "nbformat_minor": 5
}
