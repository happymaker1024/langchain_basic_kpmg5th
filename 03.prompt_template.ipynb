{
 "cells": [
  {
   "cell_type": "markdown",
   "id": "c57af69a",
   "metadata": {},
   "source": [
    "# 프롬프트 템플릿 작성"
   ]
  },
  {
   "cell_type": "code",
   "execution_count": 1,
   "id": "50199f4c",
   "metadata": {},
   "outputs": [],
   "source": [
    "from dotenv import load_dotenv\n",
    "import os\n",
    "\n",
    "load_dotenv()\n",
    "api_key = os.environ[\"OPENAI_API_KEY\"]"
   ]
  },
  {
   "cell_type": "code",
   "execution_count": 2,
   "id": "b0e0e099",
   "metadata": {},
   "outputs": [
    {
     "data": {
      "text/plain": [
       "ChatOpenAI(client=<openai.resources.chat.completions.completions.Completions object at 0x0000024ABB55FBF0>, async_client=<openai.resources.chat.completions.completions.AsyncCompletions object at 0x0000024ABB3FA960>, root_client=<openai.OpenAI object at 0x0000024AB8C388C0>, root_async_client=<openai.AsyncOpenAI object at 0x0000024ABB55EA50>, model_name='gpt-3.5-turbo-0125', model_kwargs={}, openai_api_key=SecretStr('**********'))"
      ]
     },
     "execution_count": 2,
     "metadata": {},
     "output_type": "execute_result"
    }
   ],
   "source": [
    "from langchain_openai import ChatOpenAI\n",
    "\n",
    "# llm = ChatOpenAI(model=\"gpt-4o\", api_key=api_key)\n",
    "llm = ChatOpenAI(model=\"gpt-3.5-turbo-0125\", api_key=api_key)\n",
    "llm"
   ]
  },
  {
   "cell_type": "markdown",
   "id": "46e4183f",
   "metadata": {},
   "source": [
    "# 템플릿 객체 사용"
   ]
  },
  {
   "cell_type": "code",
   "execution_count": 6,
   "id": "b2898f17",
   "metadata": {},
   "outputs": [
    {
     "name": "stdout",
     "output_type": "stream",
     "text": [
      "서울에서 가장 유명한 맛집을 알려주세요.\n"
     ]
    }
   ],
   "source": [
    "from langchain.prompts import PromptTemplate\n",
    "\n",
    "# template 객체 생성 및 구성 정의\n",
    "template = PromptTemplate.from_template(\n",
    "    \"{city}에서 {adjective} {topic}을 알려주세요.\")\n",
    "\n",
    "# template.format()으로 템플릿에 값을 대입\n",
    "prompt = template.format(city=\"서울\", \n",
    "                        adjective=\"가장 유명한\",\n",
    "                        topic=\"맛집\"\n",
    "                         )\n",
    "print(prompt)"
   ]
  },
  {
   "cell_type": "code",
   "execution_count": 7,
   "id": "333beb27",
   "metadata": {},
   "outputs": [],
   "source": [
    "# llm에 질문 요청\n",
    "response = llm.invoke(prompt)"
   ]
  },
  {
   "cell_type": "code",
   "execution_count": 8,
   "id": "5da0cd41",
   "metadata": {},
   "outputs": [
    {
     "data": {
      "text/plain": [
       "AIMessage(content='서울에서 가장 유명한 맛집은 많아서 한 곳을 꼽기는 어렵지만, 일부 유명한 맛집을 소개해 드리겠습니다. \\n\\n1. 봉피양 - 한우 등심이 유명한 유명한 고급 한식 요리 전문 레스토랑으로, 인기 있는 식당 중 하나입니다.\\n2. 제주탕 - 매운 갈비찜이 유명한 전통적인 한식 요리 전문 레스토랑입니다.\\n3. 삼청동 칼국수 - 전통적인 한국 수프와 국수를 즐길 수 있는 인기 맛집 중 하나입니다.\\n4. 명동 칼국수 - 민물 재료로 만든 간단하지만 맛있는 한국 수프와 국수를 즐길 수 있는 곳으로 유명합니다.\\n5. 한국마늘집 - 마늘 요리를 즐길 수 있는 인기 한국음식점 중 하나로 유명합니다.\\n\\n이 외에도 다양한 유명한 맛집들이 있으니 방문해 보시면 좋을 것 같습니다.', additional_kwargs={'refusal': None}, response_metadata={'token_usage': {'completion_tokens': 362, 'prompt_tokens': 28, 'total_tokens': 390, 'completion_tokens_details': {'accepted_prediction_tokens': 0, 'audio_tokens': 0, 'reasoning_tokens': 0, 'rejected_prediction_tokens': 0}, 'prompt_tokens_details': {'audio_tokens': 0, 'cached_tokens': 0}}, 'model_name': 'gpt-3.5-turbo-0125', 'system_fingerprint': None, 'id': 'chatcmpl-BfiNFzyKmZnnAvRkNuVRFwC4X9Cma', 'service_tier': 'default', 'finish_reason': 'stop', 'logprobs': None}, id='run--9bdd312b-3244-476f-9763-a2ce49bd2ace-0', usage_metadata={'input_tokens': 28, 'output_tokens': 362, 'total_tokens': 390, 'input_token_details': {'audio': 0, 'cache_read': 0}, 'output_token_details': {'audio': 0, 'reasoning': 0}})"
      ]
     },
     "execution_count": 8,
     "metadata": {},
     "output_type": "execute_result"
    }
   ],
   "source": [
    "response"
   ]
  },
  {
   "cell_type": "code",
   "execution_count": 9,
   "id": "2030ac90",
   "metadata": {},
   "outputs": [
    {
     "name": "stdout",
     "output_type": "stream",
     "text": [
      "서울에서 가장 유명한 맛집은 많아서 한 곳을 꼽기는 어렵지만, 일부 유명한 맛집을 소개해 드리겠습니다. \n",
      "\n",
      "1. 봉피양 - 한우 등심이 유명한 유명한 고급 한식 요리 전문 레스토랑으로, 인기 있는 식당 중 하나입니다.\n",
      "2. 제주탕 - 매운 갈비찜이 유명한 전통적인 한식 요리 전문 레스토랑입니다.\n",
      "3. 삼청동 칼국수 - 전통적인 한국 수프와 국수를 즐길 수 있는 인기 맛집 중 하나입니다.\n",
      "4. 명동 칼국수 - 민물 재료로 만든 간단하지만 맛있는 한국 수프와 국수를 즐길 수 있는 곳으로 유명합니다.\n",
      "5. 한국마늘집 - 마늘 요리를 즐길 수 있는 인기 한국음식점 중 하나로 유명합니다.\n",
      "\n",
      "이 외에도 다양한 유명한 맛집들이 있으니 방문해 보시면 좋을 것 같습니다.\n"
     ]
    }
   ],
   "source": [
    "print(response.content)"
   ]
  },
  {
   "cell_type": "code",
   "execution_count": null,
   "id": "94991db7",
   "metadata": {},
   "outputs": [],
   "source": [
    "# template 객체를 JSON 파일로 저장\n",
    "template.save(\"template.json\")"
   ]
  },
  {
   "cell_type": "markdown",
   "id": "78e9d252",
   "metadata": {},
   "source": [
    "# Chat Prompt Template"
   ]
  },
  {
   "cell_type": "code",
   "execution_count": 24,
   "id": "2a52a6d9",
   "metadata": {},
   "outputs": [],
   "source": [
    "from langchain_openai import ChatOpenAI\n",
    "from langchain.prompts import ChatPromptTemplate\n",
    "\n",
    "llm = ChatOpenAI(\n",
    "    model=\"gpt-3.5-turbo-0125\",\n",
    "    api_key=api_key,\n",
    "    temperature=0.0,\n",
    "    max_tokens=1000\n",
    ")\n",
    "\n",
    "chat_template = ChatPromptTemplate.from_messages([\n",
    "    (\"system\", \"당신은 베테랑 영행 가이드로, 고객 최적의 맞춤 여행 일정 수립을 도와줍니다.\"),\n",
    "    (\"human\", \"여름에 {place}로 {travel_type}을 가려고 합니다.\"),\n",
    "    (\"ai\", \"제가 바로 {place} 전문 여행 가이드입니다. 어떤 도움이 필요하신가요?\"),\n",
    "    (\"human\", \" 다음 질문에 답해주세요: {questions}\")\n",
    "])\n",
    "\n",
    "prompt = chat_template.format_messages(\n",
    "    when=\"여름\",\n",
    "    place=\"동남아\",\n",
    "    travel_type=\"가족여행\",\n",
    "    questions=[\n",
    "        \"여름에 동남아로 가족여행을 가면 어떤 것을 준비해야 할까요?\",\n",
    "        \"동남아에서 가족과 함께 할 수 있는 활동은 무엇이 있을까요?\",\n",
    "        \"가족과 함께 동남아에서 추천할 만한 음식은 무엇인가요?\",\n",
    "        \"해당 지역의 여행지에 여름에 가족이 즐길만한 5군데를 추천해 주세요.\"\n",
    "    ]\n",
    ")"
   ]
  },
  {
   "cell_type": "code",
   "execution_count": 25,
   "id": "3729d5c1",
   "metadata": {},
   "outputs": [],
   "source": [
    "response = llm.invoke(prompt)"
   ]
  },
  {
   "cell_type": "code",
   "execution_count": 26,
   "id": "0e4a332c",
   "metadata": {},
   "outputs": [
    {
     "name": "stdout",
     "output_type": "stream",
     "text": [
      "물론이죠. 각 질문에 대한 답변을 순서대로 제공해 드리겠습니다.\n",
      "\n",
      "1. 여름에 동남아로 가족여행을 준비할 때는 다음을 고려해야 합니다:\n",
      "   - 충분한 태양 차단제와 모자, 선글라스를 준비하여 햇볕을 가리는 것이 중요합니다.\n",
      "   - 가벼운 의류와 습기를 흡수하는 소재의 옷을 챙겨야 합니다.\n",
      "   - 모기 퇴치제와 모기 네트를 준비하여 모기에 대비해야 합니다.\n",
      "   - 음식과 물에 주의하여 위생을 유지해야 합니다.\n",
      "\n",
      "2. 동남아에서 가족과 함께 즐길 수 있는 활동은 다양합니다. 몇 가지 예시는 다음과 같습니다:\n",
      "   - 해변에서 수영하거나 해양 스포츠를 즐기기\n",
      "   - 역사적인 유적지나 문화체험을 통해 지역의 역사와 문화를 배우기\n",
      "   - 자연 속에서 트레킹이나 자전거 타기\n",
      "   - 현지 시장이나 상점에서 쇼핑하기\n",
      "   - 현지 요리 수업이나 음식 시식 투어 참여하기\n",
      "\n",
      "3. 동남아에서 가족과 함께 즐길 만한 음식은 다양합니다. 몇 가지 추천 음식은 다음과 같습니다:\n",
      "   - 태국의 태국 카레, 소바 누들\n",
      "   - 베트남의 파 봉, 쌀국수\n",
      "   - 인도네시아의 난땅, 미고렝\n",
      "   - 필리핀의 어도보, 시니강\n",
      "   - 말레이시아의 나시 렘빽, 차르 쿠테하\n",
      "\n",
      "4. 동남아 지역에서 여름에 가족이 즐길만한 여행지 5곳은 다음과 같습니다:\n",
      "   - 태국의 프크엔, 코사무이 섬\n",
      "   - 인도네시아의 발리 섬, 유베드 섬\n",
      "   - 말레이시아의 랑카위, 코타키나발루\n",
      "   - 베트남의 다낭, 호이안\n",
      "   - 필리핀의 세부, 보홀\n",
      "\n",
      "이렇게 준비하시면 가족과 함께 즐거운 동남아 여행을 즐길 수 있을 것입니다. 추가로 궁금한 점이 있으시면 언제든지 물어보세요.\n"
     ]
    }
   ],
   "source": [
    "print(response.content)"
   ]
  },
  {
   "cell_type": "markdown",
   "id": "d2e62028",
   "metadata": {},
   "source": [
    "# prompt pipeline 구성 방법"
   ]
  },
  {
   "cell_type": "code",
   "execution_count": 33,
   "id": "9d039d60",
   "metadata": {},
   "outputs": [
    {
     "data": {
      "text/plain": [
       "PromptTemplate(input_variables=['prompt_1', 'prompt_2'], input_types={}, partial_variables={}, template='\\n{prompt_1}\\n{prompt_2}\\n')"
      ]
     },
     "execution_count": 33,
     "metadata": {},
     "output_type": "execute_result"
    }
   ],
   "source": [
    "from langchain.prompts import PromptTemplate\n",
    "from langchain.prompts.pipeline import PipelinePromptTemplate\n",
    "\n",
    "prompt_1 = PromptTemplate.from_template(\"당신은 {place} 베테랑 여행 가이드입니다. \")\n",
    "prompt_2 = PromptTemplate.from_template(\"고객 최적의 {place} {travel} 일정 수립을 도와줍니다.\")\n",
    "\n",
    "final_template = \"\"\"\n",
    "{prompt_1}\n",
    "{prompt_2}\n",
    "\"\"\"\n",
    "\n",
    "final_prompt = PromptTemplate.from_template(final_template)\n",
    "final_prompt"
   ]
  },
  {
   "cell_type": "code",
   "execution_count": 39,
   "id": "cd429dda",
   "metadata": {},
   "outputs": [],
   "source": [
    "# 프롬프트 파이프라인 설정\n",
    "pipeline_prompts = [\n",
    "    (\"prompt_1\", prompt_1),\n",
    "    (\"prompt_2\", prompt_2)\n",
    "]\n",
    "\n",
    "# PipelinePromptTemplate 생성\n",
    "pipeline = PipelinePromptTemplate(\n",
    "    final_prompt=final_prompt,\n",
    "    pipeline_prompts=pipeline_prompts\n",
    ")\n"
   ]
  },
  {
   "cell_type": "code",
   "execution_count": 37,
   "id": "be5767fa",
   "metadata": {},
   "outputs": [
    {
     "name": "stdout",
     "output_type": "stream",
     "text": [
      "✅ 최종 생성된 프롬프트:\n",
      "\n",
      "\n",
      "당신은 제주도 베테랑 여행 가이드입니다. \n",
      "고객 최적의 제주도 3박 4일 일정 수립을 도와줍니다.\n",
      "\n"
     ]
    }
   ],
   "source": [
    "# 테스트 입력\n",
    "input_data = {\n",
    "    \"place\": \"제주도\",\n",
    "    \"travel\": \"3박 4일\"\n",
    "}\n",
    "\n",
    "# 최종 프롬프트 텍스트 생성\n",
    "formatted_prompt = pipeline.format(**input_data)\n",
    "\n",
    "# 결과 출력\n",
    "print(\"✅ 최종 생성된 프롬프트:\\n\")\n",
    "print(formatted_prompt)"
   ]
  },
  {
   "cell_type": "markdown",
   "id": "062fa0eb",
   "metadata": {},
   "source": [
    "## 부분 프롬프트"
   ]
  },
  {
   "cell_type": "code",
   "execution_count": 40,
   "id": "4b9dba3c",
   "metadata": {},
   "outputs": [
    {
     "name": "stdout",
     "output_type": "stream",
     "text": [
      "서울에서 유명한 한정식집을 알려주세요.\n",
      "부산에서 유명한 해운대을 알려주세요.\n"
     ]
    }
   ],
   "source": [
    "# 기본 템플릿 정의\n",
    "prompt = PromptTemplate(template=\"{city}에서 유명한 {place}을 알려주세요.\", \n",
    "                        input_variables=[\"place\"],          # 사용자 입력이 필요한 변수\n",
    "                        partial_variables={\"city\": \"서울\"})  # 초기값 입력\n",
    "\n",
    "# input_variables 값 입력                        \n",
    "print(prompt.format(place=\"한정식집\"))\n",
    "\n",
    "# partial_variables 값 변경\n",
    "partial_prompt = prompt.partial(city=\"부산\")\n",
    "\n",
    "# input_variables 값 입력\n",
    "print(partial_prompt.format(place=\"해운대\"))"
   ]
  },
  {
   "cell_type": "markdown",
   "id": "28813b28",
   "metadata": {},
   "source": [
    "# 프롬프트로 질문하기"
   ]
  },
  {
   "cell_type": "markdown",
   "id": "8f612f34",
   "metadata": {},
   "source": [
    "## 방법1"
   ]
  },
  {
   "cell_type": "code",
   "execution_count": 42,
   "id": "e2427963",
   "metadata": {},
   "outputs": [],
   "source": [
    "prpt = partial_prompt.format(place=\"해운대\")\n",
    "response = llm.invoke(prpt)"
   ]
  },
  {
   "cell_type": "code",
   "execution_count": 44,
   "id": "0c20914f",
   "metadata": {},
   "outputs": [
    {
     "name": "stdout",
     "output_type": "stream",
     "text": [
      "부산의 대표적인 관광지인 해운대는 국내외에서 많은 관광객들이 찾는 곳입니다. 해운대 해수욕장은 깨끗한 백사장과 맑은 바다로 유명하며, 여름에는 많은 사람들이 해수욕을 즐기러 찾습니다. 또한 해운대 해수욕장 주변에는 다양한 음식점, 상점, 호텔 등이 밀집해 있어 관광객들에게 다양한 즐길거리를 제공합니다. 해운대 해수욕장을 방문하면 부산의 아름다운 해변 풍경을 감상할 수 있을 뿐만 아니라 다양한 레저 활동도 즐길 수 있습니다.\n"
     ]
    }
   ],
   "source": [
    "print(response.content)"
   ]
  },
  {
   "cell_type": "markdown",
   "id": "32420ca9",
   "metadata": {},
   "source": [
    "## 방법2"
   ]
  },
  {
   "cell_type": "markdown",
   "id": "29d79dd7",
   "metadata": {},
   "source": [
    "- LCEL(LangChain Expression Language) 사용 예시"
   ]
  },
  {
   "cell_type": "code",
   "execution_count": 45,
   "id": "4c8308f8",
   "metadata": {},
   "outputs": [],
   "source": [
    "\n",
    "from langchain_core.output_parsers import StrOutputParser\n",
    "chain = partial_prompt | llm | StrOutputParser()"
   ]
  },
  {
   "cell_type": "code",
   "execution_count": 46,
   "id": "b9ee57f4",
   "metadata": {},
   "outputs": [
    {
     "data": {
      "text/plain": [
       "PromptTemplate(input_variables=['place'], input_types={}, partial_variables={'city': '부산'}, template='{city}에서 유명한 {place}을 알려주세요.')\n",
       "| ChatOpenAI(client=<openai.resources.chat.completions.completions.Completions object at 0x0000024ABB3DB980>, async_client=<openai.resources.chat.completions.completions.AsyncCompletions object at 0x0000024ABBDF1D00>, root_client=<openai.OpenAI object at 0x0000024ABBDFEB10>, root_async_client=<openai.AsyncOpenAI object at 0x0000024ABB77D610>, model_name='gpt-3.5-turbo-0125', temperature=0.0, model_kwargs={}, openai_api_key=SecretStr('**********'), max_tokens=1000)\n",
       "| StrOutputParser()"
      ]
     },
     "execution_count": 46,
     "metadata": {},
     "output_type": "execute_result"
    }
   ],
   "source": [
    "chain"
   ]
  },
  {
   "cell_type": "code",
   "execution_count": 50,
   "id": "a1abbf7b",
   "metadata": {},
   "outputs": [],
   "source": [
    "# 전달값은 dict 형이여야 함. {\"place\": \"해운대\"}\n",
    "chain_res = chain.invoke({\"place\": \"해운대\"})  "
   ]
  },
  {
   "cell_type": "code",
   "execution_count": 51,
   "id": "4356e4f1",
   "metadata": {},
   "outputs": [
    {
     "data": {
      "text/plain": [
       "'부산의 대표적인 관광지인 해운대는 국내외에서 많은 관광객들이 찾는 곳으로 유명합니다. 해운대 해수욕장은 깨끗한 백사장과 아름다운 일몰을 감상할 수 있는 곳으로 유명하며, 주변에는 다양한 레스토랑, 카페, 상점들이 밀집해 있어 관광객들에게 다양한 즐길거리를 제공합니다. 또한 해운대 바닷가를 따라 이어지는 해운대 동백섬, 해운대 해수욕장 근처에 위치한 해운대 마린시티, 해운대 해수욕장 근처에 위치한 동백도서관 등 다양한 명소들이 있어 부산을 방문하는 관광객들에게 인기 있는 장소입니다.'"
      ]
     },
     "execution_count": 51,
     "metadata": {},
     "output_type": "execute_result"
    }
   ],
   "source": [
    "chain_res"
   ]
  }
 ],
 "metadata": {
  "kernelspec": {
   "display_name": "lc_env",
   "language": "python",
   "name": "python3"
  },
  "language_info": {
   "codemirror_mode": {
    "name": "ipython",
    "version": 3
   },
   "file_extension": ".py",
   "mimetype": "text/x-python",
   "name": "python",
   "nbconvert_exporter": "python",
   "pygments_lexer": "ipython3",
   "version": "3.12.11"
  }
 },
 "nbformat": 4,
 "nbformat_minor": 5
}
