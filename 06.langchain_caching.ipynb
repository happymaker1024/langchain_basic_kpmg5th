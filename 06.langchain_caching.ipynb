{
 "cells": [
  {
   "cell_type": "markdown",
   "id": "5d940288",
   "metadata": {},
   "source": [
    "# langchain caching"
   ]
  },
  {
   "cell_type": "markdown",
   "id": "001dc7c5",
   "metadata": {},
   "source": [
    "- API키 로딩"
   ]
  },
  {
   "cell_type": "code",
   "execution_count": 9,
   "id": "4614c064",
   "metadata": {},
   "outputs": [],
   "source": [
    "from dotenv import load_dotenv\n",
    "import os\n",
    "# .env에 정의한 환경변수를 메모리에 로딩\n",
    "load_dotenv()\n",
    "\n",
    "# OPENAI_API_KEY 값을 변수에 대입\n",
    "api_key = os.environ[\"OPENAI_API_KEY\"]\n",
    "\n",
    "# Redis 환경 설정 값 변수에 대입\n",
    "\n",
    "REDIS_HOST= os.environ[\"REDIS_HOST\"]\n",
    "REDIS_PASSWORD= os.environ[\"REDIS_PASSWORD\"]"
   ]
  },
  {
   "cell_type": "code",
   "execution_count": null,
   "id": "e94ac77b",
   "metadata": {},
   "outputs": [
    {
     "name": "stdout",
     "output_type": "stream",
     "text": [
      "bar\n"
     ]
    }
   ],
   "source": [
    "\"\"\"Basic connection example.\n",
    "\"\"\"\n",
    "\n",
    "import redis\n",
    "\n",
    "r = redis.Redis(\n",
    "    host=REDIS_HOST,\n",
    "    port=19496,\n",
    "    decode_responses=True,\n",
    "    username=\"default\",\n",
    "    password=REDIS_PASSWORD\n",
    ")\n",
    "\n",
    "success = r.set('foo2', 'bar')\n",
    "result = r.get('foo2')\n",
    "print(result)\n",
    "# >>> bar"
   ]
  },
  {
   "cell_type": "markdown",
   "id": "92c02093",
   "metadata": {},
   "source": [
    "# RedisCash 실습"
   ]
  },
  {
   "cell_type": "markdown",
   "id": "54cf79d7",
   "metadata": {},
   "source": [
    "- Redis 객체 생성"
   ]
  },
  {
   "cell_type": "code",
   "execution_count": 8,
   "id": "818fdcc9",
   "metadata": {},
   "outputs": [],
   "source": [
    "from redis import Redis\n",
    "\n",
    "redis_cache = Redis(\n",
    "    host=REDIS_HOST,\n",
    "    port=19496,\n",
    "    password=REDIS_PASSWORD\n",
    "    )"
   ]
  },
  {
   "cell_type": "markdown",
   "id": "5c536a96",
   "metadata": {},
   "source": [
    "- set llm cache()"
   ]
  },
  {
   "cell_type": "code",
   "execution_count": 10,
   "id": "c468e414",
   "metadata": {},
   "outputs": [],
   "source": [
    "from langchain_openai import ChatOpenAI\n",
    "from langchain_core.messages import HumanMessage\n",
    "from langchain_core.globals import set_llm_cache\n",
    "from langchain_community.cache import RedisCache\n",
    "\n",
    "set_llm_cache(RedisCache(\n",
    "    redis_= redis_cache\n",
    "))\n",
    "\n",
    "\n",
    "# llm = ChatOpenAI(model=\"gpt-4o\", api_key=api_key)\n",
    "llm = ChatOpenAI(model=\"gpt-3.5-turbo-0125\", api_key=api_key)\n",
    "\n",
    "\n",
    "message1 = [HumanMessage(content=\"서울에서 가장 맛있는 길거리 음식은 5개를 소개해 주세요\")]\n",
    "message2 = [HumanMessage(content=\"서울에서 가장 맛있는 길거리 음식은 15개를 소개해 주세요\")]"
   ]
  },
  {
   "cell_type": "code",
   "execution_count": 11,
   "id": "86214ee6",
   "metadata": {},
   "outputs": [
    {
     "name": "stdout",
     "output_type": "stream",
     "text": [
      "1. 명동 굴국밥: 명동의 번화가 안에 위치한 이곳은 대표적인 길거리 음식으로 유명합니다. 싱싱한 굴과 감칠맛 가득한 고기 육수가 어우러진 굴국밥은 한 그릇 먹고 나면 더 먹고 싶어지는 맛입니다.\n",
      "\n",
      "2. 홍대 양념치킨: 홍대에서 유명한 양념치킨은 고소하고 매콤한 양념이 일품입니다. 길거리에서 바삭하게 튀겨진 양념치킨을 한 입 베어 먹는 즉각적인 만족감은 정말 일품입니다.\n",
      "\n",
      "3. 이태원 핫도그: 이태원의 대표적인 길거리 음식 중 하나로, 고소한 치즈와 바삭한 외피로 유명합니다. 양파, 케첩, 머스타드 소스로 맛을 더해주면 더욱 맛있게 먹을 수 있습니다.\n",
      "\n",
      "4. 명동 붕어빵: 명동의 붕어빵은 바삭한 외피와 부드러운 내용물이 만나 이색적인 맛을 선사합니다. 앙금과 크림을 추가해서 먹으면 더욱 맛있는 마무리가 가능합니다.\n",
      "\n",
      "5. 종로 닭갈비: 종로의 길거리 닭갈비는 매콤한 양념에 더불어 쫄깃한 닭고기와 신선한 야채가 만나 맛을 더해줍니다. 중간 맛으로 주문하면 한 입 먹을 때마다 불 맛이 살아나 커다란 맛의 포인트로 즐길 수 있습니다.\n",
      "CPU times: total: 15.6 ms\n",
      "Wall time: 3.98 s\n"
     ]
    }
   ],
   "source": [
    "%%time\n",
    "response1 = llm.invoke(message1)\n",
    "print(response1.content)"
   ]
  },
  {
   "cell_type": "code",
   "execution_count": 12,
   "id": "0c4a5f9c",
   "metadata": {},
   "outputs": [
    {
     "name": "stdout",
     "output_type": "stream",
     "text": [
      "1. 명동 굴국밥: 명동의 번화가 안에 위치한 이곳은 대표적인 길거리 음식으로 유명합니다. 싱싱한 굴과 감칠맛 가득한 고기 육수가 어우러진 굴국밥은 한 그릇 먹고 나면 더 먹고 싶어지는 맛입니다.\n",
      "\n",
      "2. 홍대 양념치킨: 홍대에서 유명한 양념치킨은 고소하고 매콤한 양념이 일품입니다. 길거리에서 바삭하게 튀겨진 양념치킨을 한 입 베어 먹는 즉각적인 만족감은 정말 일품입니다.\n",
      "\n",
      "3. 이태원 핫도그: 이태원의 대표적인 길거리 음식 중 하나로, 고소한 치즈와 바삭한 외피로 유명합니다. 양파, 케첩, 머스타드 소스로 맛을 더해주면 더욱 맛있게 먹을 수 있습니다.\n",
      "\n",
      "4. 명동 붕어빵: 명동의 붕어빵은 바삭한 외피와 부드러운 내용물이 만나 이색적인 맛을 선사합니다. 앙금과 크림을 추가해서 먹으면 더욱 맛있는 마무리가 가능합니다.\n",
      "\n",
      "5. 종로 닭갈비: 종로의 길거리 닭갈비는 매콤한 양념에 더불어 쫄깃한 닭고기와 신선한 야채가 만나 맛을 더해줍니다. 중간 맛으로 주문하면 한 입 먹을 때마다 불 맛이 살아나 커다란 맛의 포인트로 즐길 수 있습니다.\n",
      "CPU times: total: 0 ns\n",
      "Wall time: 7.12 ms\n"
     ]
    }
   ],
   "source": [
    "%%time\n",
    "response1 = llm.invoke(message1)\n",
    "print(response1.content)"
   ]
  },
  {
   "cell_type": "code",
   "execution_count": 13,
   "id": "f2383dc1",
   "metadata": {},
   "outputs": [
    {
     "name": "stdout",
     "output_type": "stream",
     "text": [
      "1. 남대문 시장 - 떡볶이\n",
      "2. 명동 - 호두과자\n",
      "3. 이태원 - 파스타\n",
      "4. 홍대 - 핫도그\n",
      "5. 광장시장 - 떡갈비\n",
      "6. 신촌 - 크레페\n",
      "7. 종로 - 붕어빵\n",
      "8. 강남역 - 튀김\n",
      "9. 을지로 - 족발\n",
      "10. 연남동 - 샤워장\n",
      "11. 압구정 - 핫도그\n",
      "12. 대학로 - 떡뽁이\n",
      "13. 공덕 - 월남쌈\n",
      "14. 강서구 - 닭꼬치\n",
      "15. 서래마을 - 타코터너\n",
      "CPU times: total: 0 ns\n",
      "Wall time: 1.99 s\n"
     ]
    }
   ],
   "source": [
    "%%time\n",
    "response2 = llm.invoke(message2)\n",
    "print(response2.content)"
   ]
  },
  {
   "cell_type": "code",
   "execution_count": 14,
   "id": "6a47af86",
   "metadata": {},
   "outputs": [
    {
     "name": "stdout",
     "output_type": "stream",
     "text": [
      "1. 남대문 시장 - 떡볶이\n",
      "2. 명동 - 호두과자\n",
      "3. 이태원 - 파스타\n",
      "4. 홍대 - 핫도그\n",
      "5. 광장시장 - 떡갈비\n",
      "6. 신촌 - 크레페\n",
      "7. 종로 - 붕어빵\n",
      "8. 강남역 - 튀김\n",
      "9. 을지로 - 족발\n",
      "10. 연남동 - 샤워장\n",
      "11. 압구정 - 핫도그\n",
      "12. 대학로 - 떡뽁이\n",
      "13. 공덕 - 월남쌈\n",
      "14. 강서구 - 닭꼬치\n",
      "15. 서래마을 - 타코터너\n",
      "CPU times: total: 0 ns\n",
      "Wall time: 8.11 ms\n"
     ]
    }
   ],
   "source": [
    "%%time\n",
    "response2 = llm.invoke(message2)\n",
    "print(response2.content)"
   ]
  },
  {
   "cell_type": "code",
   "execution_count": null,
   "id": "d0d25347",
   "metadata": {},
   "outputs": [],
   "source": []
  }
 ],
 "metadata": {
  "kernelspec": {
   "display_name": "lc_env",
   "language": "python",
   "name": "python3"
  },
  "language_info": {
   "codemirror_mode": {
    "name": "ipython",
    "version": 3
   },
   "file_extension": ".py",
   "mimetype": "text/x-python",
   "name": "python",
   "nbconvert_exporter": "python",
   "pygments_lexer": "ipython3",
   "version": "3.12.11"
  }
 },
 "nbformat": 4,
 "nbformat_minor": 5
}
